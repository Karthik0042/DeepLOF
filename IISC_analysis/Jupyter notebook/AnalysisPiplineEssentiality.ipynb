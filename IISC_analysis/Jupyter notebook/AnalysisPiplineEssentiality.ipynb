{
 "cells": [
  {
   "cell_type": "markdown",
   "id": "4ff2432d-125b-4e8e-a1f5-f376ca484680",
   "metadata": {},
   "source": [
    "# Getting the Dataset and Preprocessing"
   ]
  },
  {
   "cell_type": "code",
   "execution_count": 1,
   "id": "7ff950e8-37a1-45c8-a9f7-1273db70c5dd",
   "metadata": {},
   "outputs": [],
   "source": [
    "import pandas as pd\n",
    "import numpy as np\n",
    "import matplotlib.pyplot as plt\n"
   ]
  },
  {
   "cell_type": "code",
   "execution_count": 3,
   "id": "62adc170-282b-4069-babe-1b36c05cf879",
   "metadata": {},
   "outputs": [],
   "source": [
    "df1 = pd.read_csv(\"/Users/karthikrajesh/PycharmProjects/DeepLOF/IISC_analysis/FinalDF_organismal.csv\")\n",
    "df1 = df1.drop('Gene ID',axis=1)"
   ]
  },
  {
   "cell_type": "markdown",
   "id": "887cff6c-f7c1-40c0-add3-0c5d01045688",
   "metadata": {},
   "source": [
    "# "
   ]
  }
 ],
 "metadata": {
  "kernelspec": {
   "display_name": "Python 3 (ipykernel)",
   "language": "python",
   "name": "python3"
  },
  "language_info": {
   "codemirror_mode": {
    "name": "ipython",
    "version": 3
   },
   "file_extension": ".py",
   "mimetype": "text/x-python",
   "name": "python",
   "nbconvert_exporter": "python",
   "pygments_lexer": "ipython3",
   "version": "3.12.4"
  }
 },
 "nbformat": 4,
 "nbformat_minor": 5
}
